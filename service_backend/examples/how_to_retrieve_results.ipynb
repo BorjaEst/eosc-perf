{
 "cells": [
  {
   "cell_type": "markdown",
   "id": "486acef9-dd24-4a48-99d5-6e53e60a6f7c",
   "metadata": {},
   "source": [
    "### Create the environment\n",
    "To do so, we select an API endpoint and collect a token from our configuration. <br>"
   ]
  },
  {
   "cell_type": "code",
   "execution_count": null,
   "id": "df6fbc94-aff2-4de3-a4fa-8ceaa9f54e02",
   "metadata": {},
   "outputs": [],
   "source": [
    "eosc_perf_api=\"https://performance.services.fedcloud.eu/api/v1\""
   ]
  },
  {
   "cell_type": "markdown",
   "id": "222a852f",
   "metadata": {},
   "source": [
    "### Configure the arguments and terms for your search"
   ]
  },
  {
   "cell_type": "markdown",
   "id": "e039aa26-bb57-4880-9968-ae9ba53772b3",
   "metadata": {},
   "source": [
    "#### Search for the benchmark id that produced our result\n",
    "You can get a list of all available benchmarks using GET /benchmarks"
   ]
  },
  {
   "cell_type": "code",
   "execution_count": null,
   "id": "fa437e41-ad87-4aa4-b213-3f167c3db697",
   "metadata": {},
   "outputs": [],
   "source": [
    "benchmarks=$(curl -X 'GET' \"$eosc_perf_api/benchmarks?docker_image=deephdc/deep-oc-benchmarks_cnn&docker_tag=benchmark\")\n",
    "benchmark=$(echo $benchmarks | jq '.items[0]')\n",
    "echo $benchmark | jq '.json_schema = \"...\"'"
   ]
  },
  {
   "cell_type": "code",
   "execution_count": null,
   "id": "474e1421",
   "metadata": {},
   "outputs": [],
   "source": [
    "benchmark_id=$(echo $benchmark | jq -r '.id')\n",
    "curl -X 'GET' \"$eosc_perf_api/results?benchmark_id=$benchmark_id\" \\\n",
    "  -H 'accept: application/json' | jq '.items'"
   ]
  },
  {
   "cell_type": "markdown",
   "id": "b44d62bc-e960-4c42-b8ad-db15b1d0ab91",
   "metadata": {},
   "source": [
    "#### Search for the site id used to run our benchmark\n",
    "You can get a list of all available benchmarks using GET /sites"
   ]
  },
  {
   "cell_type": "code",
   "execution_count": null,
   "id": "8326e84e-d386-4cbd-a143-3a0beeb8a3e2",
   "metadata": {},
   "outputs": [],
   "source": [
    "sites=$(curl -X 'GET' \"$eosc_perf_api/sites?name=ForHLR2\")\n",
    "site=$(echo $sites | jq '.items[0]')\n",
    "echo $site | jq"
   ]
  },
  {
   "cell_type": "code",
   "execution_count": null,
   "id": "c1204989",
   "metadata": {},
   "outputs": [],
   "source": [
    "site_id=$(echo $site | jq -r '.id')\n",
    "curl -X 'GET' \"$eosc_perf_api/results?site_id=$site_id\" \\\n",
    "  -H 'accept: application/json' | jq '.items'"
   ]
  },
  {
   "cell_type": "markdown",
   "id": "8f9718a8",
   "metadata": {},
   "source": [
    "#### Search for the flavor id used to run our benchmark\n",
    "If needed you can also get a list of all available flavors in that site using GET /sites{id}/flavors"
   ]
  },
  {
   "cell_type": "code",
   "execution_count": null,
   "id": "0dade40a-bd7d-4ec4-9bb0-370b9b092f25",
   "metadata": {},
   "outputs": [],
   "source": [
    "site_id=$(echo $site | jq -r '.id')\n",
    "flavors=$(curl -X 'GET' \"$eosc_perf_api/sites/$site_id/flavors:search?terms=haicore-gpu8\")\n",
    "flavor=$(echo $flavors | jq '.items[0]')\n",
    "echo $flavor | jq"
   ]
  },
  {
   "cell_type": "code",
   "execution_count": null,
   "id": "93664107",
   "metadata": {},
   "outputs": [],
   "source": [
    "flavor_id=$(echo $flavor | jq -r '.id')\n",
    "curl -X 'GET' \"$eosc_perf_api/results?flavor_id=$site_id\" \\\n",
    "  -H 'accept: application/json' | jq '.items'"
   ]
  },
  {
   "cell_type": "markdown",
   "id": "8976ea30-f40d-4b29-accb-97dc824f452b",
   "metadata": {},
   "source": [
    "#### Search for the tags to relate your result\n",
    "Collect the tags you want to link to your result so users can find it easily. <br>\n",
    "> If you do not know the name of the tag you can use :search as generic filter."
   ]
  },
  {
   "cell_type": "code",
   "execution_count": null,
   "id": "f7ea3d49-7147-4bca-bb33-e4196be0185b",
   "metadata": {},
   "outputs": [],
   "source": [
    "tag_gpu=$(curl -X 'GET' \"$eosc_perf_api/tags?name=gpu\" | jq '.items[0]')\n",
    "echo $tag_gpu | jq\n",
    "tag_hpc=$(curl -X 'GET' \"$eosc_perf_api/tags?name=hpc\" | jq '.items[0]')\n",
    "echo $tag_hpc | jq"
   ]
  },
  {
   "cell_type": "code",
   "execution_count": null,
   "id": "4302b90a",
   "metadata": {},
   "outputs": [],
   "source": [
    "tag_1=$(echo $tag_gpu | jq -r '.id')\n",
    "tag_2=$(echo $tag_hpc | jq -r '.id')\n",
    "curl -X 'GET' \"$eosc_perf_api/results?tag_id=$tag_1&tag_id=$tag_2\" \\\n",
    "  -H 'accept: application/json' | jq '.items'"
   ]
  },
  {
   "cell_type": "markdown",
   "id": "57748416",
   "metadata": {},
   "source": [
    "#### Search for results between dates\n",
    "If is also possible to filter results by upload and execution date."
   ]
  },
  {
   "cell_type": "code",
   "execution_count": 1,
   "id": "69967b70",
   "metadata": {},
   "outputs": [
    {
     "name": "stdout",
     "output_type": "stream",
     "text": [
      "curl: (3) URL using bad/illegal format or missing URL\n"
     ]
    }
   ],
   "source": [
    "upload_before='2021-10-16'\n",
    "execution_after='2021-10-14'\n",
    "\n",
    "curl -X 'GET' \"$eosc_perf_api/results?upload_before=$upload_before&execution_after=$execution_after\" \\\n",
    "  -H 'accept: application/json' | jq '.items'"
   ]
  },
  {
   "cell_type": "markdown",
   "id": "dbd19dcf",
   "metadata": {},
   "source": [
    "#### Search using custom filters\n",
    "If is also possible to filter results specific values inside the result (if you know the result structure).\n",
    "> If you do not want results that does not include the field in the response, we recommend that you use a benchmark_id"
   ]
  },
  {
   "cell_type": "code",
   "execution_count": null,
   "id": "0e5f2a0b",
   "metadata": {},
   "outputs": [],
   "source": [
    "benchmark_id='5a0f5641-01ae-4f48-b5d1-84cd9c87dfac'\n",
    "filter_1='machine_config.gpu_info.count%20%3E%204'\n",
    "filter_2='machine_config.gpu_info.count%20%3C%2020'\n",
    "\n",
    "curl -X 'GET' \"$eosc_perf_api/results?benchmark_id=$benchmark_id&filters=$filter_1&filters=$filter_2\" \\\n",
    "  -H 'accept: application/json' | jq '.items'"
   ]
  },
  {
   "cell_type": "markdown",
   "id": "48968c28",
   "metadata": {},
   "source": [
    "#### Configure sorting and use pagination\n",
    "For all the previous options, it is possible to sort the results using the following fields:\n",
    "- \"id\": Result id.\n",
    "- \"upload_datetime\": EOSC Performance upload datetime of the result.\n",
    "- \"json\": Result json values.\n",
    "- \"execution_datetime\": Execution date of the benchmark.\n",
    "- \"benchmark_id\": Benchmark id used to obtain the result.\n",
    "- \"flavor_id\": Favor id used to run the benchmark.\n",
    "- \"site_id\": Site id where the benchmark was executed.\n",
    "\n",
    "In addition, sometimes you might get more results that expected. In such case you will have to use pagination to collect all the items. To do so you can use the following parameters:\n",
    "- per_page: The number of items to be displayed on a page (maximum 100)\n",
    "- page: The return page number (1 indexed)"
   ]
  },
  {
   "cell_type": "code",
   "execution_count": null,
   "id": "db9675af",
   "metadata": {},
   "outputs": [],
   "source": [
    "curl -X 'GET' \"$eosc_perf_api/results?per_page=4&page=2&sort_by=%2Bid\" \\\n",
    "  -H 'accept: application/json' | jq '.items'"
   ]
  }
 ],
 "metadata": {
  "kernelspec": {
   "display_name": "Bash",
   "language": "bash",
   "name": "bash"
  },
  "language_info": {
   "codemirror_mode": "shell",
   "file_extension": ".sh",
   "mimetype": "text/x-sh",
   "name": "bash"
  },
  "toc-autonumbering": false,
  "toc-showcode": false
 },
 "nbformat": 4,
 "nbformat_minor": 5
}
