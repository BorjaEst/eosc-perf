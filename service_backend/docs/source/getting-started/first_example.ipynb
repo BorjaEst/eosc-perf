{
 "cells": [
  {
   "cell_type": "markdown",
   "id": "bb218523-20fe-46c2-b7ec-74bbb3c6cdd2",
   "metadata": {
    "tags": []
   },
   "source": [
    "# First example\n",
    "To do so, we select an API endpoint and collect a token from our configuration. <br>\n",
    "We also need an access token, in this example we use [oidc-agent](https://github.com/indigo-dc/oidc-agent#:~:text=oidc%2Dagent%20is%20a%20set,session%20or%20a%20login%20session.) to get one. <br>"
   ]
  },
  {
   "cell_type": "code",
   "execution_count": null,
   "id": "70b64852-fe8e-4f10-91eb-fcfa37c05391",
   "metadata": {},
   "outputs": [],
   "source": [
    "eosc_perf_api=\"https://perf.test.fedcloud.eu/api/v1/\"\n",
    "access_token=$(oidc-token egi-prod)"
   ]
  }
 ],
 "metadata": {
  "kernelspec": {
   "display_name": "Bash",
   "language": "bash",
   "name": "bash"
  },
  "language_info": {
   "codemirror_mode": "shell",
   "file_extension": ".sh",
   "mimetype": "text/x-sh",
   "name": "bash"
  }
 },
 "nbformat": 4,
 "nbformat_minor": 5
}
