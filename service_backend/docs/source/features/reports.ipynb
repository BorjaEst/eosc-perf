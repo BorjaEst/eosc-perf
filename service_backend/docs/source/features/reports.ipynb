{
 "cells": [
  {
   "cell_type": "markdown",
   "id": "79aad730",
   "metadata": {},
   "source": [
    "# Using /reports\n",
    "Although EOSC Performance administrators review benchmarks and site uploads, it is not feasible nor recommended to review all uploaded results as it might impact the usage experience. \n",
    "\n",
    "Therefore, it relies in the hands of the community the responsibility to report any result that might create confusion or might seem not correct. In this example we are going to explore deeply the options available when reporting results at EOSC Performance."
   ]
  },
  {
   "cell_type": "markdown",
   "id": "486acef9-dd24-4a48-99d5-6e53e60a6f7c",
   "metadata": {},
   "source": [
    "### Create the environment\n",
    "To do so, we select an API endpoint and collect a token from our configuration. <br>\n",
    "We also need an access token, in this example we use [oidc-agent](https://github.com/indigo-dc/oidc-agent#:~:text=oidc%2Dagent%20is%20a%20set,session%20or%20a%20login%20session.) to get one. <br>"
   ]
  },
  {
   "cell_type": "code",
   "execution_count": 1,
   "id": "df6fbc94-aff2-4de3-a4fa-8ceaa9f54e02",
   "metadata": {},
   "outputs": [],
   "source": [
    "eosc_perf_api=\"https://performance.services.fedcloud.eu/api/v1/\"\n",
    "access_token=$(oidc-token egi-prod)"
   ]
  },
  {
   "cell_type": "markdown",
   "id": "7911381a-c922-45c4-b8e0-f7c1e2e7e99c",
   "metadata": {},
   "source": [
    "### (Conditional) Register, if not done already\n",
    "To use our service as user, first we need to accept the terms of usage and register. <br>\n",
    "Make sure to read the [terms and conditions](https://performance.services.fedcloud.eu/privacy_policy)."
   ]
  },
  {
   "cell_type": "code",
   "execution_count": null,
   "id": "9390c151-9268-4aa2-ab8b-1b55ff966380",
   "metadata": {},
   "outputs": [],
   "source": [
    "curl -X 'POST' \\\n",
    "  \"$eosc_perf_api/users:register\" \\\n",
    "  -H \"Authorization: Bearer $access_token\""
   ]
  },
  {
   "cell_type": "markdown",
   "id": "3a2fd84e",
   "metadata": {},
   "source": [
    "## Evaluate result details\n",
    "You can access to the result details using the `json` field on a `/results` response. For more information about how to filter and search for results, see the example on [how to use /results](features/reports.ipynb)."
   ]
  },
  {
   "cell_type": "code",
   "execution_count": 3,
   "id": "ad10860d",
   "metadata": {},
   "outputs": [
    {
     "name": "stdout",
     "output_type": "stream",
     "text": [
      "  % Total    % Received % Xferd  Average Speed   Time    Time     Time  Current\n",
      "                                 Dload  Upload   Total   Spent    Left  Speed\n",
      "100 80312  100 80312    0     0   754k      0 --:--:-- --:--:-- --:--:--  754k\n",
      "\u001b[0;32m\"6fd550d8-b691-4d5d-bca0-2dff11561ba0\"\u001b[0m\n"
     ]
    }
   ],
   "source": [
    "results=$(curl -X 'GET' \"$eosc_perf_api/results\")\n",
    "echo $results | jq '.items[0].id'"
   ]
  },
  {
   "cell_type": "markdown",
   "id": "7d9561f3",
   "metadata": {},
   "source": [
    "## Report the result\n",
    "You can create a result `claim` with a POST request to the `/results/{id}:claim` endpoint. To do so, you need the `id` of the result to report and attach as body a json with **message** field where explaining the reasons for the claim. "
   ]
  },
  {
   "cell_type": "code",
   "execution_count": 4,
   "id": "9b7a888e",
   "metadata": {},
   "outputs": [
    {
     "name": "stdout",
     "output_type": "stream",
     "text": [
      "  % Total    % Received % Xferd  Average Speed   Time    Time     Time  Current\n",
      "                                 Dload  Upload   Total   Spent    Left  Speed\n",
      "100   456  100   418  100    38    523     47 --:--:-- --:--:-- --:--:--   570\n",
      "\u001b[1;39m{\n",
      "  \u001b[0m\u001b[34;1m\"id\"\u001b[0m\u001b[1;39m: \u001b[0m\u001b[0;32m\"7a8beb86-1af7-4589-8745-05144f8bef51\"\u001b[0m\u001b[1;39m,\n",
      "  \u001b[0m\u001b[34;1m\"message\"\u001b[0m\u001b[1;39m: \u001b[0m\u001b[0;32m\"This is a claim example\"\u001b[0m\u001b[1;39m,\n",
      "  \u001b[0m\u001b[34;1m\"resource_id\"\u001b[0m\u001b[1;39m: \u001b[0m\u001b[0;32m\"6fd550d8-b691-4d5d-bca0-2dff11561ba0\"\u001b[0m\u001b[1;39m,\n",
      "  \u001b[0m\u001b[34;1m\"resource_type\"\u001b[0m\u001b[1;39m: \u001b[0m\u001b[0;32m\"result\"\u001b[0m\u001b[1;39m,\n",
      "  \u001b[0m\u001b[34;1m\"upload_datetime\"\u001b[0m\u001b[1;39m: \u001b[0m\u001b[0;32m\"2022-02-22T16:26:51.041673\"\u001b[0m\u001b[1;39m,\n",
      "  \u001b[0m\u001b[34;1m\"uploader\"\u001b[0m\u001b[1;39m: \u001b[0m\u001b[1;39m{\n",
      "    \u001b[0m\u001b[34;1m\"email\"\u001b[0m\u001b[1;39m: \u001b[0m\u001b[0;32m\"borja.sanchis@kit.edu\"\u001b[0m\u001b[1;39m,\n",
      "    \u001b[0m\u001b[34;1m\"iss\"\u001b[0m\u001b[1;39m: \u001b[0m\u001b[0;32m\"https://aai.egi.eu/oidc/\"\u001b[0m\u001b[1;39m,\n",
      "    \u001b[0m\u001b[34;1m\"registration_datetime\"\u001b[0m\u001b[1;39m: \u001b[0m\u001b[0;32m\"2022-02-22T11:09:17.639312\"\u001b[0m\u001b[1;39m,\n",
      "    \u001b[0m\u001b[34;1m\"sub\"\u001b[0m\u001b[1;39m: \u001b[0m\u001b[0;32m\"f4454db724ea2bb46b849aa045717c19d1659414dc5123144deca5d6e2d77746@egi.eu\"\u001b[0m\u001b[1;39m\n",
      "  \u001b[1;39m}\u001b[0m\u001b[1;39m\n",
      "\u001b[1;39m}\u001b[0m\n"
     ]
    }
   ],
   "source": [
    "result_id='6fd550d8-b691-4d5d-bca0-2dff11561ba0'\n",
    "curl -X 'POST' \"$eosc_perf_api/results/$result_id:claim\" \\\n",
    "  -H 'accept: application/json' \\\n",
    "  -H \"Authorization: Bearer $access_token\" \\\n",
    "  -H 'Content-Type: application/json' \\\n",
    "  -d '{\"message\": \"This is a claim example\"}' | jq"
   ]
  },
  {
   "cell_type": "markdown",
   "id": "6a99d79f",
   "metadata": {},
   "source": [
    "Once the claim is submitted the result will remain hidden for the community when using the default searches and list methods. The result will remain hidden until the administrators review the result and the claim. If the result is legitimate, it will be restored otherwise it will be continue hidden from the community."
   ]
  },
  {
   "cell_type": "markdown",
   "id": "9a3be65e",
   "metadata": {},
   "source": [
    "<div class=\"alert alert-info\">\n",
    "Note that results cannot be edited. If claimed results is hidden due to simple mistakes the best way to fix them is to create a new result. \n",
    "</div>"
   ]
  }
 ],
 "metadata": {
  "kernelspec": {
   "display_name": "Bash",
   "language": "bash",
   "name": "bash"
  },
  "language_info": {
   "codemirror_mode": "shell",
   "file_extension": ".sh",
   "mimetype": "text/x-sh",
   "name": "bash"
  },
  "toc-autonumbering": false,
  "toc-showcode": false
 },
 "nbformat": 4,
 "nbformat_minor": 5
}
